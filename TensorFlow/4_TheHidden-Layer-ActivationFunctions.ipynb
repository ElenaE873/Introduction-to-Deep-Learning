{
 "cells": [
  {
   "cell_type": "markdown",
   "id": "2d2213e3",
   "metadata": {},
   "source": [
    "Components of a typical hidden layer:\n",
    "\n",
    "- 1 - For Linear modeling: **matrix multiplication**\n",
    "- 2 - For Non-Linear modeling: **activation function**"
   ]
  },
  {
   "cell_type": "markdown",
   "id": "d9d180ea",
   "metadata": {},
   "source": [
    "### Sigmoid -activation function-"
   ]
  },
  {
   "cell_type": "markdown",
   "id": "8e765f0d",
   "metadata": {},
   "source": [
    "cases where:\n",
    "- binary classification\n",
    "- low-level: tf.keras.activations.sigmoid()\n",
    "- high-level: sigmoid"
   ]
  },
  {
   "cell_type": "markdown",
   "id": "f8049fd8",
   "metadata": {},
   "source": [
    "### reul -activation function-"
   ]
  },
  {
   "cell_type": "markdown",
   "id": "be1cb7f1",
   "metadata": {},
   "source": [
    "cases where:\n",
    "- hidden layers\n",
    "- low-level: tf.keras.activations.relu()\n",
    "- high-level: relu"
   ]
  },
  {
   "cell_type": "markdown",
   "id": "4f8f5242",
   "metadata": {},
   "source": [
    "### Softmax -activation function-"
   ]
  },
  {
   "cell_type": "markdown",
   "id": "ca2f3e45",
   "metadata": {},
   "source": [
    "cases where:\n",
    "- clasification with more than 2 classes\n",
    "- low-level: tf.keras.activations.softmax()\n",
    "- high-level: softmax"
   ]
  }
 ],
 "metadata": {
  "kernelspec": {
   "display_name": "Python 3 (ipykernel)",
   "language": "python",
   "name": "python3"
  },
  "language_info": {
   "codemirror_mode": {
    "name": "ipython",
    "version": 3
   },
   "file_extension": ".py",
   "mimetype": "text/x-python",
   "name": "python",
   "nbconvert_exporter": "python",
   "pygments_lexer": "ipython3",
   "version": "3.9.7"
  }
 },
 "nbformat": 4,
 "nbformat_minor": 5
}

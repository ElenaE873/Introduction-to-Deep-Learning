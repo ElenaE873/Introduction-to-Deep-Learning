{
 "cells": [
  {
   "cell_type": "markdown",
   "id": "a9f66ecf",
   "metadata": {},
   "source": [
    "### What is a Neural Network?"
   ]
  },
  {
   "cell_type": "markdown",
   "id": "6a2c5b84",
   "metadata": {},
   "source": [
    "- **Input Layer**: features\n",
    "- **Hidden Layers**: each hideden layer takes inputs form the previous layer, applies numerical weights to them, and sums them togethr, then applies an activation function.\n",
    "- **Output Layer**: the prediction"
   ]
  },
  {
   "cell_type": "code",
   "execution_count": null,
   "id": "76342f8c",
   "metadata": {},
   "outputs": [],
   "source": [
    "#simple dense layer\n",
    "import tensorflow as tf\n",
    "\n",
    "#inputs\n",
    "inputs = tf.constant([[1, 35]])\n",
    "\n",
    "#weights\n",
    "weights = tf.Variable([[-0.05], [-0.01]])\n",
    "\n",
    "#define bias\n",
    "bias = tf.Variable([0.5])"
   ]
  },
  {
   "cell_type": "code",
   "execution_count": null,
   "id": "7266ae6d",
   "metadata": {},
   "outputs": [],
   "source": [
    "product = tf.matmul(inputs, weights)\n",
    "\n",
    "#define dense layer\n",
    "dense = tf.keras.activations.sigmoid(product+bias)"
   ]
  },
  {
   "cell_type": "markdown",
   "id": "cfa68305",
   "metadata": {},
   "source": [
    "### Defining a Complete Model (vs. layers above)"
   ]
  },
  {
   "cell_type": "code",
   "execution_count": null,
   "id": "b280d5b5",
   "metadata": {},
   "outputs": [],
   "source": [
    "import tensorflow as tf\n",
    "\n",
    "#inputs\n",
    "inputs = tf.constant(data, tf.float32)\n",
    "\n",
    "#define first dense layer\n",
    "dense1 = tf.keras.layeres.Dense(10, activation='sigmoid')(inputs)\n",
    "dense2 = tf.keras.layers.Dense(5, activation='sigmoid')(dense1)\n",
    "\n",
    "#output\n",
    "outputs = tf.keras.layers.Dense(1, activation='sigmoid')(dense2)"
   ]
  }
 ],
 "metadata": {
  "kernelspec": {
   "display_name": "Python 3 (ipykernel)",
   "language": "python",
   "name": "python3"
  },
  "language_info": {
   "codemirror_mode": {
    "name": "ipython",
    "version": 3
   },
   "file_extension": ".py",
   "mimetype": "text/x-python",
   "name": "python",
   "nbconvert_exporter": "python",
   "pygments_lexer": "ipython3",
   "version": "3.9.7"
  }
 },
 "nbformat": 4,
 "nbformat_minor": 5
}

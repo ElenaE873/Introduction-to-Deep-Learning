{
 "cells": [
  {
   "cell_type": "markdown",
   "id": "4c15aacb",
   "metadata": {},
   "source": [
    "### What is a Tensor?"
   ]
  },
  {
   "cell_type": "markdown",
   "id": "80e3c515",
   "metadata": {},
   "source": [
    "- Generalization of vectors and matrices\n",
    "- Collection of numbers\n",
    "- Specific shape"
   ]
  },
  {
   "cell_type": "code",
   "execution_count": null,
   "id": "1727a108",
   "metadata": {},
   "outputs": [],
   "source": [
    "#import TensorFlow constant\n",
    "from tensorflow import constant\n",
    "\n",
    "#convert credit_numpy array into a tensorflow constant\n",
    "credit_constant = constant(credit_numpy)\n",
    "\n",
    "print('\\n The datatype is:', credit_constant.dtype)\n",
    "print('\\n The shape is:', credit_constant.shape)"
   ]
  },
  {
   "cell_type": "markdown",
   "id": "d13ce1ca",
   "metadata": {},
   "source": [
    "### Basic Operations"
   ]
  },
  {
   "cell_type": "code",
   "execution_count": null,
   "id": "11ef1fc9",
   "metadata": {},
   "outputs": [],
   "source": [
    "# Define tensors A1 and A23 as constants\n",
    "A1 = constant([1, 2, 3, 4])\n",
    "A23 = constant([[1, 2, 3], [1, 6, 4]])\n",
    "\n",
    "# Define B1 and B23 to have the correct shape\n",
    "B1 = ones_like(A1)\n",
    "B23 = ones_like(A23)\n",
    "\n",
    "# Perform element-wise multiplication\n",
    "C1 = multiply(A1, B1)\n",
    "C23 = multiply(A23, B23)\n",
    "\n",
    "# Print the tensors C1 and C23\n",
    "print('\\n C1: {}'.format(C1.numpy()))\n",
    "print('\\n C23: {}'.format(C23.numpy()))"
   ]
  },
  {
   "cell_type": "markdown",
   "id": "18a33396",
   "metadata": {},
   "source": [
    "### Input Data - Changing Datatypes"
   ]
  },
  {
   "cell_type": "code",
   "execution_count": null,
   "id": "02ea1cc8",
   "metadata": {},
   "outputs": [],
   "source": [
    "#load dataset\n",
    "data = pd.read_csv('filename.csv')\n",
    "\n",
    "#converting column to float\n",
    "column = np.array(data['column'], np.float32)\n",
    "\n",
    "#converting column to boolean\n",
    "column = np.array(data['column'], np.bool)"
   ]
  },
  {
   "cell_type": "markdown",
   "id": "f901c456",
   "metadata": {},
   "source": [
    "#### Loss Functions in Tensorflow\n",
    "\n",
    "Linear Models:\n",
    "- MSE\n",
    "    - Strongly penalizes outliers\n",
    "    - High (gradient) sensitivity near minimum\n",
    "    \n",
    "- MAE\n",
    "    - scales linearly with size of error\n",
    "    - low sensitivity near minimum\n",
    "    \n",
    "- Huber error\n",
    "    - Similar to MSE near minimum\n",
    "    - similar to MAE away from minimum"
   ]
  },
  {
   "cell_type": "code",
   "execution_count": null,
   "id": "1c42ce8f",
   "metadata": {},
   "outputs": [],
   "source": [
    "tf.keras.loses()"
   ]
  },
  {
   "cell_type": "code",
   "execution_count": null,
   "id": "da4a3c0f",
   "metadata": {},
   "outputs": [],
   "source": [
    "# Initialize a variable named scalar\n",
    "scalar = Variable(1.0, float32)\n",
    "\n",
    "# Define the model\n",
    "def model(scalar, features = features):\n",
    "  \treturn scalar * features\n",
    "\n",
    "# Define a loss function\n",
    "def loss_function(scalar, features = features, targets = targets):\n",
    "\t# Compute the predicted values\n",
    "\tpredictions = model(scalar, features)\n",
    "    \n",
    "\t# Return the mean absolute error loss\n",
    "\treturn keras.losses.mae(targets, predictions)\n",
    "\n",
    "# Evaluate the loss function and print the loss\n",
    "print(loss_function(scalar).numpy())"
   ]
  },
  {
   "cell_type": "markdown",
   "id": "a014ab03",
   "metadata": {},
   "source": [
    "### Minimization with Gradient Descent"
   ]
  },
  {
   "cell_type": "code",
   "execution_count": null,
   "id": "ce7d2a54",
   "metadata": {},
   "outputs": [],
   "source": [
    "import tensorflow as tf\n",
    "\n",
    "#define model function\n",
    "def model(bias, weights, features=features):\n",
    "    product = tf.matmul(features, weights)\n",
    "    return tf.keras.activations.sigmoid(product+bias)\n",
    "\n",
    "#comput predicted values and los\n",
    "def loss_function(bias, weights, targets = default, features=features):\n",
    "    predictions = model(bias, weights)\n",
    "    return tf.keras.losses.binary_crossentropy(targets, predictions)\n",
    "\n",
    "#minimize the loss function with RMS propagation\n",
    "opt = tf.keras.optimizers.RMSprop(learning_rate=0.01, momentum=0.9)\n",
    "opt.minimize(lambda: loss_function(bias, weights), var_list=[bias, weights])"
   ]
  }
 ],
 "metadata": {
  "kernelspec": {
   "display_name": "Python 3 (ipykernel)",
   "language": "python",
   "name": "python3"
  },
  "language_info": {
   "codemirror_mode": {
    "name": "ipython",
    "version": 3
   },
   "file_extension": ".py",
   "mimetype": "text/x-python",
   "name": "python",
   "nbconvert_exporter": "python",
   "pygments_lexer": "ipython3",
   "version": "3.9.7"
  }
 },
 "nbformat": 4,
 "nbformat_minor": 5
}

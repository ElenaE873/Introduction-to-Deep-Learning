{
 "cells": [
  {
   "cell_type": "markdown",
   "id": "fef7c4ed",
   "metadata": {},
   "source": [
    "### Building a Neural Network - with Sequential API"
   ]
  },
  {
   "cell_type": "code",
   "execution_count": null,
   "id": "7ffda505",
   "metadata": {},
   "outputs": [],
   "source": [
    "import numpy as np\n",
    "\n",
    "from keras.layers import Dense\n",
    "from keras.models import Sequential\n",
    "\n",
    "predictors = np.loadtxt('filename.csv', delimiter=',')\n",
    "n_cols = predictors.shape[1]\n",
    "\n",
    "#create a new sequential model\n",
    "model = Sequential()\n",
    "\n",
    "#input / dense layer + activation function\n",
    "model.add(Dense(100, activation='relu', input_shape=(n_cols,)))\n",
    "model.add(Dense(100, activation='relu'))\n",
    "\n",
    "#add a final neuron layer\n",
    "model.add(Dense(1))\n",
    "\n",
    "#calling the summary function on the model\n",
    "model.summary()"
   ]
  },
  {
   "cell_type": "markdown",
   "id": "0733f5ce",
   "metadata": {},
   "source": [
    "### Compiling and fitting a model"
   ]
  },
  {
   "cell_type": "markdown",
   "id": "2895fa54",
   "metadata": {},
   "source": [
    "Why the need to compile the model?\n",
    "- specify the optimizer: many options and / mathematically complex\n",
    "- specify the loss function (just like in machine learning)"
   ]
  },
  {
   "cell_type": "code",
   "execution_count": null,
   "id": "ede7d52d",
   "metadata": {},
   "outputs": [],
   "source": [
    "model.compile(optimizer='adam', loss='mean_squared_error')   #could also be loss = 'mse'\n",
    "\n",
    "# Verify that model contains information from compiling\n",
    "print(\"Loss function: \" + model.loss)"
   ]
  },
  {
   "cell_type": "markdown",
   "id": "870ef543",
   "metadata": {},
   "source": [
    "What is fitting a model?\n",
    "- applying backpropagation and gradient descent with data to update the weights"
   ]
  },
  {
   "cell_type": "markdown",
   "id": "145ff396",
   "metadata": {},
   "source": [
    "### Training"
   ]
  },
  {
   "cell_type": "code",
   "execution_count": null,
   "id": "3bb63037",
   "metadata": {},
   "outputs": [],
   "source": [
    "#training the model\n",
    "model.fit(X_train, y_train, epochs=5)"
   ]
  },
  {
   "cell_type": "markdown",
   "id": "628e72a7",
   "metadata": {},
   "source": [
    "### Predicting"
   ]
  },
  {
   "cell_type": "code",
   "execution_count": null,
   "id": "4ecc1b6b",
   "metadata": {},
   "outputs": [],
   "source": [
    "preds = model.predict(X_test)\n",
    "#looking at predictions\n",
    "print(preds)"
   ]
  },
  {
   "cell_type": "markdown",
   "id": "f0b3357c",
   "metadata": {},
   "source": [
    "### Evaluating"
   ]
  },
  {
   "cell_type": "code",
   "execution_count": null,
   "id": "8935e1df",
   "metadata": {},
   "outputs": [],
   "source": [
    "model.evaluate(X_test, y_test)"
   ]
  }
 ],
 "metadata": {
  "kernelspec": {
   "display_name": "Python 3 (ipykernel)",
   "language": "python",
   "name": "python3"
  },
  "language_info": {
   "codemirror_mode": {
    "name": "ipython",
    "version": 3
   },
   "file_extension": ".py",
   "mimetype": "text/x-python",
   "name": "python",
   "nbconvert_exporter": "python",
   "pygments_lexer": "ipython3",
   "version": "3.9.7"
  }
 },
 "nbformat": 4,
 "nbformat_minor": 5
}

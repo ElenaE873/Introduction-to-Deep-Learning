{
 "cells": [
  {
   "cell_type": "markdown",
   "id": "ab518a35",
   "metadata": {},
   "source": [
    "When an observation falls in one of two classes."
   ]
  },
  {
   "cell_type": "code",
   "execution_count": null,
   "id": "25692913",
   "metadata": {},
   "outputs": [],
   "source": [
    "#creating pairplots to get an intuition for the kind of dataset we're working with\n",
    "\n",
    "import seaborn as sns\n",
    "sns.pairplot(data, hue='target')"
   ]
  },
  {
   "cell_type": "markdown",
   "id": "3894e45a",
   "metadata": {},
   "source": [
    "### Sigmoid Activation Function"
   ]
  },
  {
   "cell_type": "markdown",
   "id": "75a8e888",
   "metadata": {},
   "source": [
    "- squashes the neuron output of the second to the last layer to a floaing point number between 0 and 1.\n",
    "- probability of a pair of coordinates being in one class or another.\n",
    "- a threshold can be set to determine everything below a value will be one class, versus another."
   ]
  },
  {
   "cell_type": "code",
   "execution_count": null,
   "id": "459d3bd3",
   "metadata": {},
   "outputs": [],
   "source": [
    "from keras.layers import Dense\n",
    "from keras.models import Sequential\n",
    "\n",
    "model = Sequential()\n",
    "model.add(Dense(4, activation='tanh', input_shape=(2,)))\n",
    "model.add(Dense(1, activation='sigmoid'))\n",
    "\n",
    "model.summary()"
   ]
  },
  {
   "cell_type": "code",
   "execution_count": null,
   "id": "253a1536",
   "metadata": {},
   "outputs": [],
   "source": [
    "model.compile(optimizer='sgd', loss='binary_crossentropy')\n",
    "#optimizer: stochastic gradient descent\n",
    "#binary cross entropy: function used when using output neuron using sigmoid as its activation function"
   ]
  },
  {
   "cell_type": "code",
   "execution_count": null,
   "id": "74dcbd07",
   "metadata": {},
   "outputs": [],
   "source": [
    "model.fit(X_train, y_train, epochs=20)\n",
    "preds = model.predict(X_test)"
   ]
  }
 ],
 "metadata": {
  "kernelspec": {
   "display_name": "Python 3 (ipykernel)",
   "language": "python",
   "name": "python3"
  },
  "language_info": {
   "codemirror_mode": {
    "name": "ipython",
    "version": 3
   },
   "file_extension": ".py",
   "mimetype": "text/x-python",
   "name": "python",
   "nbconvert_exporter": "python",
   "pygments_lexer": "ipython3",
   "version": "3.9.7"
  }
 },
 "nbformat": 4,
 "nbformat_minor": 5
}

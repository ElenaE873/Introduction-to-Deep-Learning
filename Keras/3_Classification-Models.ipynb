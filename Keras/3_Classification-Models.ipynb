{
 "cells": [
  {
   "cell_type": "code",
   "execution_count": null,
   "id": "acb4b382",
   "metadata": {},
   "outputs": [],
   "source": [
    "import keras\n",
    "from keras.layers import Dense\n",
    "from keras.models import Sequential\n",
    "from keras.utils.np_utils import to_categorical\n",
    "\n",
    "data = pd.read_csv('filename.csv')\n",
    "predictors = data.drop(['target_col'], axis=1).as_matrix()\n",
    "\n",
    "#convert target to categorical\n",
    "target = to_categorical(data.target_col)\n",
    "\n",
    "#setup model\n",
    "model = Sequential()\n",
    "\n",
    "#add the first layers\n",
    "model.add(Dense(100, activation='relu', input_shape=(n_cols,)))\n",
    "model.add(Dense(100, activation='relu'))\n",
    "\n",
    "#add the output layer\n",
    "model.add(Dense(2, activation='softmax'))\n",
    "\n",
    "#compile the model\n",
    "model.compile(optimizer='adam', loss='categorical_crossentropy', metrics=['accuracy'])\n",
    "\n",
    "#fit the model\n",
    "model.fit(predictors, target)"
   ]
  },
  {
   "cell_type": "markdown",
   "id": "34450565",
   "metadata": {},
   "source": [
    "#### Save a Model, Reload it and Use the Model"
   ]
  },
  {
   "cell_type": "code",
   "execution_count": null,
   "id": "b98116cd",
   "metadata": {},
   "outputs": [],
   "source": [
    "from keras.models import load_model\n",
    "model.save('model_file.h5')\n",
    "\n",
    "my_model = load_model('model_file.h5')\n",
    "\n",
    "predictions = my_model.predict(data_to_predict_with)\n",
    "probability_true = predictions[:,1]\n",
    "\n",
    "#verify the model structure\n",
    "my_model.summary()"
   ]
  }
 ],
 "metadata": {
  "kernelspec": {
   "display_name": "Python 3 (ipykernel)",
   "language": "python",
   "name": "python3"
  },
  "language_info": {
   "codemirror_mode": {
    "name": "ipython",
    "version": 3
   },
   "file_extension": ".py",
   "mimetype": "text/x-python",
   "name": "python",
   "nbconvert_exporter": "python",
   "pygments_lexer": "ipython3",
   "version": "3.9.7"
  }
 },
 "nbformat": 4,
 "nbformat_minor": 5
}

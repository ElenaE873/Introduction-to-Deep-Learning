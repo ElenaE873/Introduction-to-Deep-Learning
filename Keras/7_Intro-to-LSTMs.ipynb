{
 "cells": [
  {
   "cell_type": "markdown",
   "id": "4045cd6e",
   "metadata": {},
   "source": [
    "### LSTMs"
   ]
  },
  {
   "cell_type": "markdown",
   "id": "4a7849d0",
   "metadata": {},
   "source": [
    "- type of recurrent neural network, RNN.\n",
    "- RNN: a neural network that can use past predictions in order to infer new ones.  \n",
    "- allows to solve problems where there is a dependence on past inputs\n",
    "\n",
    "\n",
    "LSTMs:\n",
    "- called \"units\" or \"cells\"\n",
    "- have an internal state that is passed between units\n",
    "- a unit receives the internal state, an output from the previous unit, and a new input at time t.\n",
    "- then it updates the state and produces a new output that is returned, as well as passed as an input to the following unit.\n",
    "\n",
    "Perform several operations:\n",
    "- learn what to ignore\n",
    "- what to keep \n",
    "- to select the most important pieces of past information in order to predict the future\n",
    "- tend to work better than simple RNNs"
   ]
  },
  {
   "cell_type": "code",
   "execution_count": null,
   "id": "c9475f51",
   "metadata": {},
   "outputs": [],
   "source": [
    "# Import the Embedding, LSTM and Dense layer\n",
    "from keras.layers import Embedding, LSTM, Dense\n",
    "\n",
    "model = Sequential()\n",
    "\n",
    "# Add an Embedding layer with the right parameters\n",
    "model.add(Embedding(input_dim = vocab_size, input_length = 3, output_dim = 8))\n",
    "\n",
    "# Add a 32 unit LSTM layer\n",
    "model.add(LSTM(32))\n",
    "\n",
    "# Add a hidden Dense layer of 32 units and an output layer of vocab_size with softmax\n",
    "model.add(Dense(32, activation='relu'))\n",
    "model.add(Dense(vocab_size, activation='softmax'))\n",
    "model.summary()"
   ]
  },
  {
   "cell_type": "code",
   "execution_count": null,
   "id": "e5df2a2b",
   "metadata": {},
   "outputs": [],
   "source": [
    "def predict_text(test_text, model = model):\n",
    "  if len(test_text.split()) != 3:\n",
    "    print('Text input should be 3 words!')\n",
    "    return False\n",
    "  \n",
    "  # Turn the test_text into a sequence of numbers\n",
    "  test_seq = tokenizer.texts_to_sequences([test_text])\n",
    "  test_seq = np.array(test_seq)\n",
    "  \n",
    "  # Use the model passed as a parameter to predict the next word\n",
    "  pred = model.predict(test_seq).argmax(axis = 1)[0]\n",
    "  \n",
    "  # Return the word that maps to the prediction\n",
    "  return tokenizer.index_word[pred]"
   ]
  }
 ],
 "metadata": {
  "kernelspec": {
   "display_name": "Python 3 (ipykernel)",
   "language": "python",
   "name": "python3"
  },
  "language_info": {
   "codemirror_mode": {
    "name": "ipython",
    "version": 3
   },
   "file_extension": ".py",
   "mimetype": "text/x-python",
   "name": "python",
   "nbconvert_exporter": "python",
   "pygments_lexer": "ipython3",
   "version": "3.9.7"
  }
 },
 "nbformat": 4,
 "nbformat_minor": 5
}

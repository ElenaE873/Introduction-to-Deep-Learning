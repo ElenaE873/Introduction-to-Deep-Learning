{
 "cells": [
  {
   "cell_type": "markdown",
   "id": "424d955a",
   "metadata": {},
   "source": [
    "### Keras\n",
    "- Deep Learning framework\n",
    "- Enables fast experimentation\n",
    "- Runs on top of other frameworks (like TensorFlow)\n",
    "- written by Francois Chollet"
   ]
  },
  {
   "cell_type": "markdown",
   "id": "ccce7b84",
   "metadata": {},
   "source": [
    "Why use Keras?  (vs. TF)?\n",
    "- fast / industry ready models\n",
    "- for beginners and experts\n",
    "- less code\n",
    "- build any artchitecture\n",
    "- deploy models in multiple platforms"
   ]
  },
  {
   "cell_type": "markdown",
   "id": "43c24dd0",
   "metadata": {},
   "source": [
    "KERAS + TENSORFLOW\n",
    "- Keras is fully integrated into TF 2.0.\n",
    "- great for unstructured data"
   ]
  }
 ],
 "metadata": {
  "kernelspec": {
   "display_name": "Python 3 (ipykernel)",
   "language": "python",
   "name": "python3"
  },
  "language_info": {
   "codemirror_mode": {
    "name": "ipython",
    "version": 3
   },
   "file_extension": ".py",
   "mimetype": "text/x-python",
   "name": "python",
   "nbconvert_exporter": "python",
   "pygments_lexer": "ipython3",
   "version": "3.9.7"
  }
 },
 "nbformat": 4,
 "nbformat_minor": 5
}
